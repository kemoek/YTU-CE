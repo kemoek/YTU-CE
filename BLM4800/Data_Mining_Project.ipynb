{
  "nbformat": 4,
  "nbformat_minor": 0,
  "metadata": {
    "colab": {
      "name": "Data Mining Project.ipynb",
      "provenance": [],
      "collapsed_sections": []
    },
    "kernelspec": {
      "name": "python3",
      "display_name": "Python 3"
    },
    "language_info": {
      "name": "python"
    }
  },
  "cells": [
    {
      "cell_type": "code",
      "execution_count": 38,
      "metadata": {
        "colab": {
          "base_uri": "https://localhost:8080/"
        },
        "id": "2YZYVkHZyDDM",
        "outputId": "209ab4c2-e76e-4455-c08d-fdf4bbbcd7b8"
      },
      "outputs": [
        {
          "output_type": "stream",
          "name": "stdout",
          "text": [
            "(716, 28)\n"
          ]
        }
      ],
      "source": [
        "import pandas as pd\n",
        "import matplotlib.pyplot as plt\n",
        "\n",
        "file = \"NBA_DATA.xlsx\"\n",
        "\n",
        "data = pd.read_excel(file)\n",
        "\n",
        "print(data.shape)"
      ]
    },
    {
      "cell_type": "code",
      "source": [
        "data.info()"
      ],
      "metadata": {
        "colab": {
          "base_uri": "https://localhost:8080/"
        },
        "id": "-CiFqrB0zNYV",
        "outputId": "7a034038-5eaa-45df-f153-ddcd29efa76d"
      },
      "execution_count": 39,
      "outputs": [
        {
          "output_type": "stream",
          "name": "stdout",
          "text": [
            "<class 'pandas.core.frame.DataFrame'>\n",
            "RangeIndex: 716 entries, 0 to 715\n",
            "Data columns (total 28 columns):\n",
            " #   Column                                                                                                                                                                                                                     Non-Null Count  Dtype  \n",
            "---  ------                                                                                                                                                                                                                     --------------  -----  \n",
            " 0   FULL NAME                                                                                                                                                                                                                  716 non-null    object \n",
            " 1   TEAM                                                                                                                                                                                                                       716 non-null    object \n",
            " 2   POS                                                                                                                                                                                                                        716 non-null    object \n",
            " 3   AGE                                                                                                                                                                                                                        716 non-null    float64\n",
            " 4   GP                                                                                                                                                                                                                         716 non-null    int64  \n",
            " 5   MPG                                                                                                                                                                                                                        716 non-null    float64\n",
            " 6   MIN%Minutes PercentagePercentage of team minutes used by a player while he was on the floor                                                                                                                                716 non-null    float64\n",
            " 7   USG%Usage RateUsage rate, a.k.a., usage percentage is an estimate of the percentage of team plays used by a player while he was on the floor                                                                               716 non-null    float64\n",
            " 8   TO%Turnover RateA metric that estimates the number of turnovers a player commits per 100 possessions                                                                                                                       703 non-null    float64\n",
            " 9   FTA                                                                                                                                                                                                                        716 non-null    int64  \n",
            " 10  FT%                                                                                                                                                                                                                        716 non-null    float64\n",
            " 11  2PA                                                                                                                                                                                                                        716 non-null    int64  \n",
            " 12  2P%                                                                                                                                                                                                                        716 non-null    float64\n",
            " 13  3PA                                                                                                                                                                                                                        716 non-null    int64  \n",
            " 14  3P%                                                                                                                                                                                                                        716 non-null    float64\n",
            " 15  eFG%Effective Shooting PercentageWith eFG%, three-point shots made are worth 50% more than two-point shots made. eFG% Formula=(FGM+ (0.5 x 3PM))/FGA                                                                       701 non-null    float64\n",
            " 16  TS%True Shooting PercentageTrue shooting percentage is a measure of shooting efficiency that takes into account field goals, 3-point field goals, and free throws.                                                         703 non-null    float64\n",
            " 17  PPGPointsPoints per game.                                                                                                                                                                                                  716 non-null    float64\n",
            " 18  RPGReboundsRebounds per game.                                                                                                                                                                                              716 non-null    float64\n",
            " 19  TRB%Total Rebound PercentageTotal rebound percentage is estimated percentage of available rebounds grabbed by the player while the player is on the court.                                                                 716 non-null    float64\n",
            " 20  APGAssistsAssists per game.                                                                                                                                                                                                716 non-null    float64\n",
            " 21  AST%Assist PercentageAssist percentage is an estimated percentage of teammate field goals a player assisted while the player is on the court                                                                               716 non-null    float64\n",
            " 22  SPGStealsSteals per game.                                                                                                                                                                                                  716 non-null    float64\n",
            " 23  BPGBlocksBlocks per game.                                                                                                                                                                                                  716 non-null    float64\n",
            " 24  TOPGTurnoversTurnovers per game.                                                                                                                                                                                           716 non-null    float64\n",
            " 25  VIVersatility IndexVersatility index is a metric that measures a player’s ability to produce in points, assists, and rebounds. The average player will score around a five on the index, while top players score above 10  716 non-null    float64\n",
            " 26  ORTGOffensive RatingIndividual offensive rating is the number of points produced by a player per 100 total individual possessions.                                                                                         662 non-null    float64\n",
            " 27  DRTGDefensive RatingIndividual defensive rating estimates how many points the player allowed per 100 possessions he individually faced while staying on the court.                                                         663 non-null    float64\n",
            "dtypes: float64(21), int64(4), object(3)\n",
            "memory usage: 156.8+ KB\n"
          ]
        }
      ]
    },
    {
      "cell_type": "code",
      "source": [
        "data.rename(columns= {'eFG%Effective Shooting PercentageWith eFG%, three-point shots made are worth 50% more than two-point shots made. eFG% Formula=(FGM+ (0.5 x 3PM))/FGA': 'eFG%',\n",
        "                      'TS%True Shooting PercentageTrue shooting percentage is a measure of shooting efficiency that takes into account field goals, 3-point field goals, and free throws.': 'TS%',\n",
        "                      'TRB%Total Rebound PercentageTotal rebound percentage is estimated percentage of available rebounds grabbed by the player while the player is on the court.': 'TRB%',\n",
        "                      'MIN%Minutes PercentagePercentage of team minutes used by a player while he was on the floor' : 'MIN%',\n",
        "                      'USG%Usage RateUsage rate, a.k.a., usage percentage is an estimate of the percentage of team plays used by a player while he was on the floor':'USG%',\n",
        "                      'TO%Turnover RateA metric that estimates the number of turnovers a player commits per 100 possessions' : 'TO%',\n",
        "                      'APGAssistsAssists per game.': 'APG',\n",
        "                      'SPGStealsSteals per game.' : 'SPG',\n",
        "                      'BPGBlocksBlocks per game.' : 'BPG',\n",
        "                      'PPGPointsPoints per game.' : 'PPG',\n",
        "                      'RPGReboundsRebounds per game.' : 'RPG',\n",
        "                      'TOPGTurnoversTurnovers per game.' :'TOPG',\n",
        "                      'VIVersatility IndexVersatility index is a metric that measures a player’s ability to produce in points, assists, and rebounds. The average player will score around a five on the index, while top players score above 10' :'VI',\n",
        "                      'AST%Assist PercentageAssist percentage is an estimated percentage of teammate field goals a player assisted while the player is on the court':'AST%',\n",
        "                      'ORTGOffensive RatingIndividual offensive rating is the number of points produced by a player per 100 total individual possessions.':'ORTG',\n",
        "                      'DRTGDefensive RatingIndividual defensive rating estimates how many points the player allowed per 100 possessions he individually faced while staying on the court.':'DRTG'}, inplace = True)"
      ],
      "metadata": {
        "id": "BvzGYoqH0t93"
      },
      "execution_count": 40,
      "outputs": []
    },
    {
      "cell_type": "code",
      "source": [
        "data.info()"
      ],
      "metadata": {
        "colab": {
          "base_uri": "https://localhost:8080/"
        },
        "id": "8Gu4uRKf5P8-",
        "outputId": "5afdced7-51a4-4d7f-f332-e4b2cc2a1fe7"
      },
      "execution_count": 41,
      "outputs": [
        {
          "output_type": "stream",
          "name": "stdout",
          "text": [
            "<class 'pandas.core.frame.DataFrame'>\n",
            "RangeIndex: 716 entries, 0 to 715\n",
            "Data columns (total 28 columns):\n",
            " #   Column     Non-Null Count  Dtype  \n",
            "---  ------     --------------  -----  \n",
            " 0   FULL NAME  716 non-null    object \n",
            " 1   TEAM       716 non-null    object \n",
            " 2   POS        716 non-null    object \n",
            " 3   AGE        716 non-null    float64\n",
            " 4   GP         716 non-null    int64  \n",
            " 5   MPG        716 non-null    float64\n",
            " 6   MIN%       716 non-null    float64\n",
            " 7   USG%       716 non-null    float64\n",
            " 8   TO%        703 non-null    float64\n",
            " 9   FTA        716 non-null    int64  \n",
            " 10  FT%        716 non-null    float64\n",
            " 11  2PA        716 non-null    int64  \n",
            " 12  2P%        716 non-null    float64\n",
            " 13  3PA        716 non-null    int64  \n",
            " 14  3P%        716 non-null    float64\n",
            " 15  eFG%       701 non-null    float64\n",
            " 16  TS%        703 non-null    float64\n",
            " 17  PPG        716 non-null    float64\n",
            " 18  RPG        716 non-null    float64\n",
            " 19  TRB%       716 non-null    float64\n",
            " 20  APG        716 non-null    float64\n",
            " 21  AST%       716 non-null    float64\n",
            " 22  SPG        716 non-null    float64\n",
            " 23  BPG        716 non-null    float64\n",
            " 24  TOPG       716 non-null    float64\n",
            " 25  VI         716 non-null    float64\n",
            " 26  ORTG       662 non-null    float64\n",
            " 27  DRTG       663 non-null    float64\n",
            "dtypes: float64(21), int64(4), object(3)\n",
            "memory usage: 156.8+ KB\n"
          ]
        }
      ]
    },
    {
      "cell_type": "code",
      "source": [
        "data[['FULL NAME', 'TEAM', 'GP']].sort_values(by='GP', ascending=False).head(10)"
      ],
      "metadata": {
        "colab": {
          "base_uri": "https://localhost:8080/",
          "height": 363
        },
        "id": "9XmBZZdAHn00",
        "outputId": "4676fc0d-6c4b-409e-d752-8fbff341a1b7"
      },
      "execution_count": 42,
      "outputs": [
        {
          "output_type": "execute_result",
          "data": {
            "text/plain": [
              "               FULL NAME TEAM  GP\n",
              "72         Mikal Bridges  Pho  82\n",
              "22           Deni Avdija  Was  82\n",
              "398         Kevon Looney  Gol  82\n",
              "536        Dwight Powell  Dal  82\n",
              "52            Saddiq Bey  Det  82\n",
              "411         Terance Mann  Lac  81\n",
              "94            Alec Burks  Nyk  81\n",
              "450          Patty Mills  Bro  81\n",
              "194  Dorian Finney-Smith  Dal  80\n",
              "202        Evan Fournier  Nyk  80"
            ],
            "text/html": [
              "\n",
              "  <div id=\"df-d5088119-6fee-4d70-bbdf-b1f02eae5ad0\">\n",
              "    <div class=\"colab-df-container\">\n",
              "      <div>\n",
              "<style scoped>\n",
              "    .dataframe tbody tr th:only-of-type {\n",
              "        vertical-align: middle;\n",
              "    }\n",
              "\n",
              "    .dataframe tbody tr th {\n",
              "        vertical-align: top;\n",
              "    }\n",
              "\n",
              "    .dataframe thead th {\n",
              "        text-align: right;\n",
              "    }\n",
              "</style>\n",
              "<table border=\"1\" class=\"dataframe\">\n",
              "  <thead>\n",
              "    <tr style=\"text-align: right;\">\n",
              "      <th></th>\n",
              "      <th>FULL NAME</th>\n",
              "      <th>TEAM</th>\n",
              "      <th>GP</th>\n",
              "    </tr>\n",
              "  </thead>\n",
              "  <tbody>\n",
              "    <tr>\n",
              "      <th>72</th>\n",
              "      <td>Mikal Bridges</td>\n",
              "      <td>Pho</td>\n",
              "      <td>82</td>\n",
              "    </tr>\n",
              "    <tr>\n",
              "      <th>22</th>\n",
              "      <td>Deni Avdija</td>\n",
              "      <td>Was</td>\n",
              "      <td>82</td>\n",
              "    </tr>\n",
              "    <tr>\n",
              "      <th>398</th>\n",
              "      <td>Kevon Looney</td>\n",
              "      <td>Gol</td>\n",
              "      <td>82</td>\n",
              "    </tr>\n",
              "    <tr>\n",
              "      <th>536</th>\n",
              "      <td>Dwight Powell</td>\n",
              "      <td>Dal</td>\n",
              "      <td>82</td>\n",
              "    </tr>\n",
              "    <tr>\n",
              "      <th>52</th>\n",
              "      <td>Saddiq Bey</td>\n",
              "      <td>Det</td>\n",
              "      <td>82</td>\n",
              "    </tr>\n",
              "    <tr>\n",
              "      <th>411</th>\n",
              "      <td>Terance Mann</td>\n",
              "      <td>Lac</td>\n",
              "      <td>81</td>\n",
              "    </tr>\n",
              "    <tr>\n",
              "      <th>94</th>\n",
              "      <td>Alec Burks</td>\n",
              "      <td>Nyk</td>\n",
              "      <td>81</td>\n",
              "    </tr>\n",
              "    <tr>\n",
              "      <th>450</th>\n",
              "      <td>Patty Mills</td>\n",
              "      <td>Bro</td>\n",
              "      <td>81</td>\n",
              "    </tr>\n",
              "    <tr>\n",
              "      <th>194</th>\n",
              "      <td>Dorian Finney-Smith</td>\n",
              "      <td>Dal</td>\n",
              "      <td>80</td>\n",
              "    </tr>\n",
              "    <tr>\n",
              "      <th>202</th>\n",
              "      <td>Evan Fournier</td>\n",
              "      <td>Nyk</td>\n",
              "      <td>80</td>\n",
              "    </tr>\n",
              "  </tbody>\n",
              "</table>\n",
              "</div>\n",
              "      <button class=\"colab-df-convert\" onclick=\"convertToInteractive('df-d5088119-6fee-4d70-bbdf-b1f02eae5ad0')\"\n",
              "              title=\"Convert this dataframe to an interactive table.\"\n",
              "              style=\"display:none;\">\n",
              "        \n",
              "  <svg xmlns=\"http://www.w3.org/2000/svg\" height=\"24px\"viewBox=\"0 0 24 24\"\n",
              "       width=\"24px\">\n",
              "    <path d=\"M0 0h24v24H0V0z\" fill=\"none\"/>\n",
              "    <path d=\"M18.56 5.44l.94 2.06.94-2.06 2.06-.94-2.06-.94-.94-2.06-.94 2.06-2.06.94zm-11 1L8.5 8.5l.94-2.06 2.06-.94-2.06-.94L8.5 2.5l-.94 2.06-2.06.94zm10 10l.94 2.06.94-2.06 2.06-.94-2.06-.94-.94-2.06-.94 2.06-2.06.94z\"/><path d=\"M17.41 7.96l-1.37-1.37c-.4-.4-.92-.59-1.43-.59-.52 0-1.04.2-1.43.59L10.3 9.45l-7.72 7.72c-.78.78-.78 2.05 0 2.83L4 21.41c.39.39.9.59 1.41.59.51 0 1.02-.2 1.41-.59l7.78-7.78 2.81-2.81c.8-.78.8-2.07 0-2.86zM5.41 20L4 18.59l7.72-7.72 1.47 1.35L5.41 20z\"/>\n",
              "  </svg>\n",
              "      </button>\n",
              "      \n",
              "  <style>\n",
              "    .colab-df-container {\n",
              "      display:flex;\n",
              "      flex-wrap:wrap;\n",
              "      gap: 12px;\n",
              "    }\n",
              "\n",
              "    .colab-df-convert {\n",
              "      background-color: #E8F0FE;\n",
              "      border: none;\n",
              "      border-radius: 50%;\n",
              "      cursor: pointer;\n",
              "      display: none;\n",
              "      fill: #1967D2;\n",
              "      height: 32px;\n",
              "      padding: 0 0 0 0;\n",
              "      width: 32px;\n",
              "    }\n",
              "\n",
              "    .colab-df-convert:hover {\n",
              "      background-color: #E2EBFA;\n",
              "      box-shadow: 0px 1px 2px rgba(60, 64, 67, 0.3), 0px 1px 3px 1px rgba(60, 64, 67, 0.15);\n",
              "      fill: #174EA6;\n",
              "    }\n",
              "\n",
              "    [theme=dark] .colab-df-convert {\n",
              "      background-color: #3B4455;\n",
              "      fill: #D2E3FC;\n",
              "    }\n",
              "\n",
              "    [theme=dark] .colab-df-convert:hover {\n",
              "      background-color: #434B5C;\n",
              "      box-shadow: 0px 1px 3px 1px rgba(0, 0, 0, 0.15);\n",
              "      filter: drop-shadow(0px 1px 2px rgba(0, 0, 0, 0.3));\n",
              "      fill: #FFFFFF;\n",
              "    }\n",
              "  </style>\n",
              "\n",
              "      <script>\n",
              "        const buttonEl =\n",
              "          document.querySelector('#df-d5088119-6fee-4d70-bbdf-b1f02eae5ad0 button.colab-df-convert');\n",
              "        buttonEl.style.display =\n",
              "          google.colab.kernel.accessAllowed ? 'block' : 'none';\n",
              "\n",
              "        async function convertToInteractive(key) {\n",
              "          const element = document.querySelector('#df-d5088119-6fee-4d70-bbdf-b1f02eae5ad0');\n",
              "          const dataTable =\n",
              "            await google.colab.kernel.invokeFunction('convertToInteractive',\n",
              "                                                     [key], {});\n",
              "          if (!dataTable) return;\n",
              "\n",
              "          const docLinkHtml = 'Like what you see? Visit the ' +\n",
              "            '<a target=\"_blank\" href=https://colab.research.google.com/notebooks/data_table.ipynb>data table notebook</a>'\n",
              "            + ' to learn more about interactive tables.';\n",
              "          element.innerHTML = '';\n",
              "          dataTable['output_type'] = 'display_data';\n",
              "          await google.colab.output.renderOutput(dataTable, element);\n",
              "          const docLink = document.createElement('div');\n",
              "          docLink.innerHTML = docLinkHtml;\n",
              "          element.appendChild(docLink);\n",
              "        }\n",
              "      </script>\n",
              "    </div>\n",
              "  </div>\n",
              "  "
            ]
          },
          "metadata": {},
          "execution_count": 42
        }
      ]
    },
    {
      "cell_type": "code",
      "source": [
        "#data[(data['GP'] > 41) & (data['ORTG'] > 120) & (data['DRTG'] > 110) & (data['MPG'] > 24)].sort_values(by='GP',ascending=False)"
      ],
      "metadata": {
        "id": "vxqWdDWYdrpj"
      },
      "execution_count": 43,
      "outputs": []
    },
    {
      "cell_type": "code",
      "source": [
        "data[['FULL NAME', 'PPG', 'APG', 'RPG']][(data['GP'] > 41) & (data['PPG'] > 25) & (data['APG'] > 5) & (data['RPG'] > 5)].sort_values(by='PPG', ascending=False)"
      ],
      "metadata": {
        "colab": {
          "base_uri": "https://localhost:8080/",
          "height": 269
        },
        "id": "mqE0yNsJ1Atx",
        "outputId": "602545ab-a6e3-4ba7-c5e3-c4df5170b468"
      },
      "execution_count": 44,
      "outputs": [
        {
          "output_type": "execute_result",
          "data": {
            "text/plain": [
              "                 FULL NAME   PPG  APG   RPG\n",
              "323           LeBron James  30.3  6.2   8.2\n",
              "13   Giannis Antetokounmpo  29.9  5.8  11.6\n",
              "176           Kevin Durant  29.9  6.4   7.4\n",
              "159            Luka Doncic  28.4  8.7   9.1\n",
              "463              Ja Morant  27.4  6.7   5.7\n",
              "343           Nikola Jokic  27.1  7.9  13.8\n",
              "142          Stephen Curry  25.5  6.3   5.2"
            ],
            "text/html": [
              "\n",
              "  <div id=\"df-ca77c5df-b39b-4bb6-a81b-ae95b5cc7e1b\">\n",
              "    <div class=\"colab-df-container\">\n",
              "      <div>\n",
              "<style scoped>\n",
              "    .dataframe tbody tr th:only-of-type {\n",
              "        vertical-align: middle;\n",
              "    }\n",
              "\n",
              "    .dataframe tbody tr th {\n",
              "        vertical-align: top;\n",
              "    }\n",
              "\n",
              "    .dataframe thead th {\n",
              "        text-align: right;\n",
              "    }\n",
              "</style>\n",
              "<table border=\"1\" class=\"dataframe\">\n",
              "  <thead>\n",
              "    <tr style=\"text-align: right;\">\n",
              "      <th></th>\n",
              "      <th>FULL NAME</th>\n",
              "      <th>PPG</th>\n",
              "      <th>APG</th>\n",
              "      <th>RPG</th>\n",
              "    </tr>\n",
              "  </thead>\n",
              "  <tbody>\n",
              "    <tr>\n",
              "      <th>323</th>\n",
              "      <td>LeBron James</td>\n",
              "      <td>30.3</td>\n",
              "      <td>6.2</td>\n",
              "      <td>8.2</td>\n",
              "    </tr>\n",
              "    <tr>\n",
              "      <th>13</th>\n",
              "      <td>Giannis Antetokounmpo</td>\n",
              "      <td>29.9</td>\n",
              "      <td>5.8</td>\n",
              "      <td>11.6</td>\n",
              "    </tr>\n",
              "    <tr>\n",
              "      <th>176</th>\n",
              "      <td>Kevin Durant</td>\n",
              "      <td>29.9</td>\n",
              "      <td>6.4</td>\n",
              "      <td>7.4</td>\n",
              "    </tr>\n",
              "    <tr>\n",
              "      <th>159</th>\n",
              "      <td>Luka Doncic</td>\n",
              "      <td>28.4</td>\n",
              "      <td>8.7</td>\n",
              "      <td>9.1</td>\n",
              "    </tr>\n",
              "    <tr>\n",
              "      <th>463</th>\n",
              "      <td>Ja Morant</td>\n",
              "      <td>27.4</td>\n",
              "      <td>6.7</td>\n",
              "      <td>5.7</td>\n",
              "    </tr>\n",
              "    <tr>\n",
              "      <th>343</th>\n",
              "      <td>Nikola Jokic</td>\n",
              "      <td>27.1</td>\n",
              "      <td>7.9</td>\n",
              "      <td>13.8</td>\n",
              "    </tr>\n",
              "    <tr>\n",
              "      <th>142</th>\n",
              "      <td>Stephen Curry</td>\n",
              "      <td>25.5</td>\n",
              "      <td>6.3</td>\n",
              "      <td>5.2</td>\n",
              "    </tr>\n",
              "  </tbody>\n",
              "</table>\n",
              "</div>\n",
              "      <button class=\"colab-df-convert\" onclick=\"convertToInteractive('df-ca77c5df-b39b-4bb6-a81b-ae95b5cc7e1b')\"\n",
              "              title=\"Convert this dataframe to an interactive table.\"\n",
              "              style=\"display:none;\">\n",
              "        \n",
              "  <svg xmlns=\"http://www.w3.org/2000/svg\" height=\"24px\"viewBox=\"0 0 24 24\"\n",
              "       width=\"24px\">\n",
              "    <path d=\"M0 0h24v24H0V0z\" fill=\"none\"/>\n",
              "    <path d=\"M18.56 5.44l.94 2.06.94-2.06 2.06-.94-2.06-.94-.94-2.06-.94 2.06-2.06.94zm-11 1L8.5 8.5l.94-2.06 2.06-.94-2.06-.94L8.5 2.5l-.94 2.06-2.06.94zm10 10l.94 2.06.94-2.06 2.06-.94-2.06-.94-.94-2.06-.94 2.06-2.06.94z\"/><path d=\"M17.41 7.96l-1.37-1.37c-.4-.4-.92-.59-1.43-.59-.52 0-1.04.2-1.43.59L10.3 9.45l-7.72 7.72c-.78.78-.78 2.05 0 2.83L4 21.41c.39.39.9.59 1.41.59.51 0 1.02-.2 1.41-.59l7.78-7.78 2.81-2.81c.8-.78.8-2.07 0-2.86zM5.41 20L4 18.59l7.72-7.72 1.47 1.35L5.41 20z\"/>\n",
              "  </svg>\n",
              "      </button>\n",
              "      \n",
              "  <style>\n",
              "    .colab-df-container {\n",
              "      display:flex;\n",
              "      flex-wrap:wrap;\n",
              "      gap: 12px;\n",
              "    }\n",
              "\n",
              "    .colab-df-convert {\n",
              "      background-color: #E8F0FE;\n",
              "      border: none;\n",
              "      border-radius: 50%;\n",
              "      cursor: pointer;\n",
              "      display: none;\n",
              "      fill: #1967D2;\n",
              "      height: 32px;\n",
              "      padding: 0 0 0 0;\n",
              "      width: 32px;\n",
              "    }\n",
              "\n",
              "    .colab-df-convert:hover {\n",
              "      background-color: #E2EBFA;\n",
              "      box-shadow: 0px 1px 2px rgba(60, 64, 67, 0.3), 0px 1px 3px 1px rgba(60, 64, 67, 0.15);\n",
              "      fill: #174EA6;\n",
              "    }\n",
              "\n",
              "    [theme=dark] .colab-df-convert {\n",
              "      background-color: #3B4455;\n",
              "      fill: #D2E3FC;\n",
              "    }\n",
              "\n",
              "    [theme=dark] .colab-df-convert:hover {\n",
              "      background-color: #434B5C;\n",
              "      box-shadow: 0px 1px 3px 1px rgba(0, 0, 0, 0.15);\n",
              "      filter: drop-shadow(0px 1px 2px rgba(0, 0, 0, 0.3));\n",
              "      fill: #FFFFFF;\n",
              "    }\n",
              "  </style>\n",
              "\n",
              "      <script>\n",
              "        const buttonEl =\n",
              "          document.querySelector('#df-ca77c5df-b39b-4bb6-a81b-ae95b5cc7e1b button.colab-df-convert');\n",
              "        buttonEl.style.display =\n",
              "          google.colab.kernel.accessAllowed ? 'block' : 'none';\n",
              "\n",
              "        async function convertToInteractive(key) {\n",
              "          const element = document.querySelector('#df-ca77c5df-b39b-4bb6-a81b-ae95b5cc7e1b');\n",
              "          const dataTable =\n",
              "            await google.colab.kernel.invokeFunction('convertToInteractive',\n",
              "                                                     [key], {});\n",
              "          if (!dataTable) return;\n",
              "\n",
              "          const docLinkHtml = 'Like what you see? Visit the ' +\n",
              "            '<a target=\"_blank\" href=https://colab.research.google.com/notebooks/data_table.ipynb>data table notebook</a>'\n",
              "            + ' to learn more about interactive tables.';\n",
              "          element.innerHTML = '';\n",
              "          dataTable['output_type'] = 'display_data';\n",
              "          await google.colab.output.renderOutput(dataTable, element);\n",
              "          const docLink = document.createElement('div');\n",
              "          docLink.innerHTML = docLinkHtml;\n",
              "          element.appendChild(docLink);\n",
              "        }\n",
              "      </script>\n",
              "    </div>\n",
              "  </div>\n",
              "  "
            ]
          },
          "metadata": {},
          "execution_count": 44
        }
      ]
    },
    {
      "cell_type": "code",
      "source": [
        "import seaborn as sns\n",
        "#Heat map\n",
        "# VI = measures a player’s ability to produce in points, assists, and rebounds\n",
        "correlation = data[['PPG', 'APG', 'RPG', 'VI']].corr()\n",
        "sns.heatmap(correlation, annot=True)"
      ],
      "metadata": {
        "colab": {
          "base_uri": "https://localhost:8080/",
          "height": 286
        },
        "id": "iRQcBwMy5frR",
        "outputId": "6baf4906-c593-4d21-a142-3530d58802fb"
      },
      "execution_count": 45,
      "outputs": [
        {
          "output_type": "execute_result",
          "data": {
            "text/plain": [
              "<matplotlib.axes._subplots.AxesSubplot at 0x7f3f30bffad0>"
            ]
          },
          "metadata": {},
          "execution_count": 45
        },
        {
          "output_type": "display_data",
          "data": {
            "text/plain": [
              "<Figure size 432x288 with 2 Axes>"
            ],
            "image/png": "[encoded data removed]"
          },
          "metadata": {
            "needs_background": "light"
          }
        }
      ]
    },
    {
      "cell_type": "code",
      "source": [
        "#Cluster of players (k-means)\n",
        "from sklearn.cluster import KMeans\n",
        "model = KMeans(n_clusters=5, random_state=1)  # KMeans model (5 clusters)\n",
        "efficient_cols = data._get_numeric_data().dropna(axis=1)  # get pure data\n",
        "model.fit(efficient_cols) # training\n",
        "labels = model.labels_\n",
        "labels"
      ],
      "metadata": {
        "colab": {
          "base_uri": "https://localhost:8080/"
        },
        "id": "b_PLrEluvbqc",
        "outputId": "8a9841d6-5a1b-4500-bc7b-64effccbb31d"
      },
      "execution_count": 46,
      "outputs": [
        {
          "output_type": "execute_result",
          "data": {
            "text/plain": [
              "array([2, 2, 1, 4, 2, 3, 4, 3, 2, 0, 4, 4, 2, 1, 4, 3, 3, 3, 4, 4, 4, 4,\n",
              "       2, 4, 2, 4, 0, 0, 1, 0, 3, 3, 0, 4, 3, 1, 1, 3, 4, 4, 0, 0, 4, 2,\n",
              "       2, 3, 4, 0, 4, 4, 4, 0, 3, 0, 0, 0, 0, 2, 4, 3, 3, 4, 4, 4, 1, 0,\n",
              "       2, 4, 0, 4, 0, 1, 2, 2, 2, 0, 4, 2, 4, 4, 4, 4, 0, 0, 2, 1, 4, 4,\n",
              "       4, 1, 4, 4, 3, 0, 3, 4, 1, 4, 3, 0, 4, 4, 2, 4, 4, 2, 4, 4, 0, 4,\n",
              "       4, 4, 4, 4, 4, 4, 2, 2, 4, 3, 0, 0, 2, 0, 4, 3, 3, 4, 4, 4, 4, 0,\n",
              "       0, 4, 0, 4, 3, 4, 4, 1, 0, 0, 3, 2, 4, 0, 4, 0, 4, 4, 1, 4, 4, 2,\n",
              "       4, 2, 0, 4, 0, 1, 3, 2, 4, 4, 4, 4, 4, 4, 4, 4, 4, 0, 0, 2, 4, 4,\n",
              "       1, 4, 1, 4, 0, 4, 0, 0, 1, 4, 4, 4, 0, 0, 4, 0, 4, 4, 3, 4, 4, 0,\n",
              "       0, 0, 4, 0, 3, 1, 4, 4, 4, 4, 0, 4, 4, 4, 2, 3, 4, 4, 1, 4, 4, 4,\n",
              "       0, 2, 0, 2, 1, 4, 4, 2, 4, 4, 2, 3, 3, 2, 4, 0, 0, 0, 3, 0, 2, 0,\n",
              "       0, 0, 4, 0, 2, 0, 4, 2, 3, 3, 0, 0, 4, 2, 0, 3, 4, 4, 1, 2, 0, 0,\n",
              "       4, 4, 2, 2, 2, 4, 4, 4, 4, 2, 1, 3, 0, 4, 0, 4, 4, 4, 4, 4, 0, 4,\n",
              "       1, 0, 0, 0, 4, 4, 4, 3, 2, 4, 4, 4, 0, 4, 3, 4, 4, 4, 2, 4, 4, 3,\n",
              "       0, 4, 4, 0, 1, 2, 4, 1, 0, 0, 0, 4, 4, 4, 1, 1, 4, 4, 0, 4, 4, 4,\n",
              "       4, 4, 3, 4, 0, 4, 4, 1, 4, 0, 0, 4, 4, 1, 0, 4, 4, 0, 2, 4, 4, 4,\n",
              "       0, 2, 4, 4, 0, 4, 4, 4, 3, 4, 4, 4, 4, 3, 0, 4, 4, 4, 4, 0, 0, 4,\n",
              "       4, 4, 4, 4, 2, 3, 4, 0, 4, 0, 0, 4, 1, 4, 0, 0, 0, 2, 0, 4, 4, 3,\n",
              "       0, 4, 2, 4, 0, 4, 4, 3, 3, 4, 0, 0, 0, 0, 4, 2, 3, 4, 3, 0, 2, 0,\n",
              "       0, 4, 4, 3, 4, 4, 0, 1, 4, 4, 4, 4, 3, 2, 0, 0, 2, 0, 2, 4, 0, 4,\n",
              "       4, 0, 3, 3, 4, 0, 1, 4, 4, 4, 3, 0, 3, 1, 1, 3, 4, 4, 4, 4, 0, 4,\n",
              "       4, 1, 4, 4, 2, 4, 4, 3, 4, 4, 4, 4, 0, 1, 0, 0, 4, 0, 4, 4, 0, 2,\n",
              "       4, 3, 4, 0, 4, 0, 0, 2, 0, 0, 4, 4, 3, 4, 0, 2, 4, 4, 4, 0, 4, 0,\n",
              "       4, 3, 4, 3, 4, 4, 4, 4, 0, 2, 2, 0, 0, 4, 4, 4, 4, 4, 2, 2, 0, 4,\n",
              "       3, 3, 4, 0, 3, 2, 0, 4, 2, 4, 2, 4, 0, 0, 0, 4, 4, 3, 4, 1, 0, 0,\n",
              "       4, 4, 4, 2, 4, 0, 0, 0, 3, 0, 4, 4, 4, 2, 0, 4, 4, 0, 3, 3, 0, 3,\n",
              "       4, 2, 0, 4, 4, 4, 4, 4, 4, 2, 4, 4, 4, 4, 2, 4, 3, 0, 1, 4, 4, 4,\n",
              "       3, 4, 4, 4, 4, 4, 3, 0, 0, 0, 4, 0, 4, 4, 4, 4, 4, 4, 4, 4, 4, 0,\n",
              "       0, 2, 3, 2, 4, 0, 2, 1, 0, 0, 4, 4, 4, 0, 4, 4, 2, 4, 4, 4, 4, 3,\n",
              "       0, 4, 4, 4, 0, 4, 0, 4, 2, 0, 1, 3, 0, 4, 4, 0, 1, 4, 4, 2, 3, 3,\n",
              "       3, 1, 0, 1, 0, 4, 3, 0, 4, 4, 4, 4, 4, 0, 3, 4, 4, 4, 4, 0, 4, 4,\n",
              "       1, 3, 2, 0, 2, 4, 0, 1, 4, 2, 0, 0, 0, 0, 4, 0, 4, 4, 4, 4, 4, 4,\n",
              "       1, 4, 0, 4, 4, 4, 4, 4, 1, 0, 4, 2], dtype=int32)"
            ]
          },
          "metadata": {},
          "execution_count": 46
        }
      ]
    },
    {
      "cell_type": "code",
      "source": [
        "# plot clusters\n",
        "from sklearn.decomposition import PCA\n",
        "pca_2 = PCA(2)\n",
        "plot_cols = pca_2.fit_transform(efficient_cols)\n",
        "plt.scatter(x=plot_cols[:,0], y=plot_cols[:,1], c=labels)"
      ],
      "metadata": {
        "colab": {
          "base_uri": "https://localhost:8080/",
          "height": 282
        },
        "id": "O7pa5NClwVYW",
        "outputId": "384dc704-1419-4f2b-a5b9-3d04f84c1486"
      },
      "execution_count": 47,
      "outputs": [
        {
          "output_type": "execute_result",
          "data": {
            "text/plain": [
              "<matplotlib.collections.PathCollection at 0x7f3f30aab8d0>"
            ]
          },
          "metadata": {},
          "execution_count": 47
        },
        {
          "output_type": "display_data",
          "data": {
            "text/plain": [
              "<Figure size 432x288 with 1 Axes>"
            ],
            "image/png": "[encoded data removed]"
          },
          "metadata": {
            "needs_background": "light"
          }
        }
      ]
    },
    {
      "cell_type": "code",
      "source": [
        "LeBron = efficient_cols.loc[ data['FULL NAME'] == 'LeBron James', :]\n",
        "\n",
        "Jokic = efficient_cols.loc[ data['FULL NAME'] == 'Nikola Jokic', :]\n",
        "\n",
        "Mikal = efficient_cols.loc[ data['FULL NAME'] == 'Mikal Bridges', :]"
      ],
      "metadata": {
        "id": "WDthoKn4wxHU"
      },
      "execution_count": 48,
      "outputs": []
    },
    {
      "cell_type": "code",
      "source": [
        "LeBron_list = LeBron.values.tolist()\n",
        "Jokic_list = Jokic.values.tolist()\n",
        "Mikal_list = Mikal.values.tolist()\n",
        "\n",
        "print(\"LeBron's Cluster: \", model.predict(LeBron_list))\n",
        "print(\"Jokic's Cluster: \", model.predict(Jokic_list))\n",
        "print(\"Mikal's Cluster: \", model.predict(Mikal_list))"
      ],
      "metadata": {
        "colab": {
          "base_uri": "https://localhost:8080/"
        },
        "id": "hit_R_NMxg3r",
        "outputId": "01acbdc9-bcdc-4c43-f5a7-441fe47404d3"
      },
      "execution_count": 49,
      "outputs": [
        {
          "output_type": "stream",
          "name": "stdout",
          "text": [
            "LeBron's Cluster:  [1]\n",
            "Jokic's Cluster:  [1]\n",
            "Mikal's Cluster:  [2]\n"
          ]
        },
        {
          "output_type": "stream",
          "name": "stderr",
          "text": [
            "/usr/local/lib/python3.7/dist-packages/sklearn/base.py:451: UserWarning: X does not have valid feature names, but KMeans was fitted with feature names\n",
            "  \"X does not have valid feature names, but\"\n",
            "/usr/local/lib/python3.7/dist-packages/sklearn/base.py:451: UserWarning: X does not have valid feature names, but KMeans was fitted with feature names\n",
            "  \"X does not have valid feature names, but\"\n",
            "/usr/local/lib/python3.7/dist-packages/sklearn/base.py:451: UserWarning: X does not have valid feature names, but KMeans was fitted with feature names\n",
            "  \"X does not have valid feature names, but\"\n"
          ]
        }
      ]
    },
    {
      "cell_type": "code",
      "source": [
        "# %80 train, %20 test\n",
        "from sklearn.model_selection import train_test_split\n",
        "x_train, x_test, y_train, y_test = train_test_split(data[['PPG']], data[['APG']], test_size=0.2, random_state=2)"
      ],
      "metadata": {
        "id": "74C2Ryr3zvuz"
      },
      "execution_count": 50,
      "outputs": []
    },
    {
      "cell_type": "code",
      "source": [
        "# Predicting APG from PPG\n",
        "from sklearn.linear_model import LinearRegression\n",
        "linear = LinearRegression()\n",
        "linear.fit(x_train, y_train)\n",
        "predicts = linear.predict(x_test)\n",
        "\n",
        "#print(predicts)\n",
        "#print(y_test)"
      ],
      "metadata": {
        "id": "FztzrbYL0NUM"
      },
      "execution_count": 51,
      "outputs": []
    },
    {
      "cell_type": "code",
      "source": [
        "# success rate\n",
        "linear_score = linear.score(x_test, y_test)\n",
        "print(\"Score: \", linear_score)\n",
        "\n",
        "# Since points and assists are different concepts, the accuracy rate is low."
      ],
      "metadata": {
        "colab": {
          "base_uri": "https://localhost:8080/"
        },
        "id": "HjjwLzTW0lDK",
        "outputId": "a2b7cd18-5f52-4e52-e11d-35e09be3ea96"
      },
      "execution_count": 52,
      "outputs": [
        {
          "output_type": "stream",
          "name": "stdout",
          "text": [
            "Score:  0.4947593819968187\n"
          ]
        }
      ]
    },
    {
      "cell_type": "code",
      "source": [
        "x_train2, x_test2, y_train2, y_test2 = train_test_split(data[['MPG']], data[['PPG']], test_size=0.2, random_state=2)\n",
        "linear2 = LinearRegression()\n",
        "linear2.fit(x_train2, y_train2)\n",
        "predicts = linear2.predict(x_test2)\n",
        "print(\"Score: \", linear2.score(x_test2, y_test2))\n",
        "\n",
        "# The more time a player has, the more chances to score."
      ],
      "metadata": {
        "colab": {
          "base_uri": "https://localhost:8080/"
        },
        "id": "COKsnAwbqj-I",
        "outputId": "deb7d472-2ec1-43c7-ea8f-e40c065e4039"
      },
      "execution_count": 53,
      "outputs": [
        {
          "output_type": "stream",
          "name": "stdout",
          "text": [
            "Score:  0.738672950115288\n"
          ]
        }
      ]
    },
    {
      "cell_type": "code",
      "source": [
        "# MVP Criterias\n",
        "mvp_candidates = data[(data['GP'] > 66) & (data['PPG'] > 25) & (data['APG'] > 4) & (data['RPG'] > 4) & (data['2P%'] > 0.4)]\n",
        "mvp_candidates[['FULL NAME', 'GP', 'PPG', 'APG', 'RPG', '2P%']]"
      ],
      "metadata": {
        "colab": {
          "base_uri": "https://localhost:8080/",
          "height": 269
        },
        "id": "iFHv2EWVONds",
        "outputId": "577b6ebe-9616-48f7-da9e-3c8fc6362f62"
      },
      "execution_count": 54,
      "outputs": [
        {
          "output_type": "execute_result",
          "data": {
            "text/plain": [
              "                 FULL NAME  GP   PPG  APG   RPG    2P%\n",
              "13   Giannis Antetokounmpo  67  29.9  5.8  11.6  0.616\n",
              "64            Devin Booker  68  26.8  4.8   5.0  0.508\n",
              "150          DeMar DeRozan  76  27.9  4.9   5.2  0.520\n",
              "184            Joel Embiid  68  30.6  4.2  11.7  0.529\n",
              "343           Nikola Jokic  74  27.1  7.9  13.8  0.652\n",
              "453       Donovan Mitchell  67  25.9  5.3   4.2  0.533\n",
              "623           Jayson Tatum  76  26.9  4.4   8.0  0.524"
            ],
            "text/html": [
              "\n",
              "  <div id=\"df-59a3abf1-75d8-48e2-95b1-b069fb5f38f2\">\n",
              "    <div class=\"colab-df-container\">\n",
              "      <div>\n",
              "<style scoped>\n",
              "    .dataframe tbody tr th:only-of-type {\n",
              "        vertical-align: middle;\n",
              "    }\n",
              "\n",
              "    .dataframe tbody tr th {\n",
              "        vertical-align: top;\n",
              "    }\n",
              "\n",
              "    .dataframe thead th {\n",
              "        text-align: right;\n",
              "    }\n",
              "</style>\n",
              "<table border=\"1\" class=\"dataframe\">\n",
              "  <thead>\n",
              "    <tr style=\"text-align: right;\">\n",
              "      <th></th>\n",
              "      <th>FULL NAME</th>\n",
              "      <th>GP</th>\n",
              "      <th>PPG</th>\n",
              "      <th>APG</th>\n",
              "      <th>RPG</th>\n",
              "      <th>2P%</th>\n",
              "    </tr>\n",
              "  </thead>\n",
              "  <tbody>\n",
              "    <tr>\n",
              "      <th>13</th>\n",
              "      <td>Giannis Antetokounmpo</td>\n",
              "      <td>67</td>\n",
              "      <td>29.9</td>\n",
              "      <td>5.8</td>\n",
              "      <td>11.6</td>\n",
              "      <td>0.616</td>\n",
              "    </tr>\n",
              "    <tr>\n",
              "      <th>64</th>\n",
              "      <td>Devin Booker</td>\n",
              "      <td>68</td>\n",
              "      <td>26.8</td>\n",
              "      <td>4.8</td>\n",
              "      <td>5.0</td>\n",
              "      <td>0.508</td>\n",
              "    </tr>\n",
              "    <tr>\n",
              "      <th>150</th>\n",
              "      <td>DeMar DeRozan</td>\n",
              "      <td>76</td>\n",
              "      <td>27.9</td>\n",
              "      <td>4.9</td>\n",
              "      <td>5.2</td>\n",
              "      <td>0.520</td>\n",
              "    </tr>\n",
              "    <tr>\n",
              "      <th>184</th>\n",
              "      <td>Joel Embiid</td>\n",
              "      <td>68</td>\n",
              "      <td>30.6</td>\n",
              "      <td>4.2</td>\n",
              "      <td>11.7</td>\n",
              "      <td>0.529</td>\n",
              "    </tr>\n",
              "    <tr>\n",
              "      <th>343</th>\n",
              "      <td>Nikola Jokic</td>\n",
              "      <td>74</td>\n",
              "      <td>27.1</td>\n",
              "      <td>7.9</td>\n",
              "      <td>13.8</td>\n",
              "      <td>0.652</td>\n",
              "    </tr>\n",
              "    <tr>\n",
              "      <th>453</th>\n",
              "      <td>Donovan Mitchell</td>\n",
              "      <td>67</td>\n",
              "      <td>25.9</td>\n",
              "      <td>5.3</td>\n",
              "      <td>4.2</td>\n",
              "      <td>0.533</td>\n",
              "    </tr>\n",
              "    <tr>\n",
              "      <th>623</th>\n",
              "      <td>Jayson Tatum</td>\n",
              "      <td>76</td>\n",
              "      <td>26.9</td>\n",
              "      <td>4.4</td>\n",
              "      <td>8.0</td>\n",
              "      <td>0.524</td>\n",
              "    </tr>\n",
              "  </tbody>\n",
              "</table>\n",
              "</div>\n",
              "      <button class=\"colab-df-convert\" onclick=\"convertToInteractive('df-59a3abf1-75d8-48e2-95b1-b069fb5f38f2')\"\n",
              "              title=\"Convert this dataframe to an interactive table.\"\n",
              "              style=\"display:none;\">\n",
              "        \n",
              "  <svg xmlns=\"http://www.w3.org/2000/svg\" height=\"24px\"viewBox=\"0 0 24 24\"\n",
              "       width=\"24px\">\n",
              "    <path d=\"M0 0h24v24H0V0z\" fill=\"none\"/>\n",
              "    <path d=\"M18.56 5.44l.94 2.06.94-2.06 2.06-.94-2.06-.94-.94-2.06-.94 2.06-2.06.94zm-11 1L8.5 8.5l.94-2.06 2.06-.94-2.06-.94L8.5 2.5l-.94 2.06-2.06.94zm10 10l.94 2.06.94-2.06 2.06-.94-2.06-.94-.94-2.06-.94 2.06-2.06.94z\"/><path d=\"M17.41 7.96l-1.37-1.37c-.4-.4-.92-.59-1.43-.59-.52 0-1.04.2-1.43.59L10.3 9.45l-7.72 7.72c-.78.78-.78 2.05 0 2.83L4 21.41c.39.39.9.59 1.41.59.51 0 1.02-.2 1.41-.59l7.78-7.78 2.81-2.81c.8-.78.8-2.07 0-2.86zM5.41 20L4 18.59l7.72-7.72 1.47 1.35L5.41 20z\"/>\n",
              "  </svg>\n",
              "      </button>\n",
              "      \n",
              "  <style>\n",
              "    .colab-df-container {\n",
              "      display:flex;\n",
              "      flex-wrap:wrap;\n",
              "      gap: 12px;\n",
              "    }\n",
              "\n",
              "    .colab-df-convert {\n",
              "      background-color: #E8F0FE;\n",
              "      border: none;\n",
              "      border-radius: 50%;\n",
              "      cursor: pointer;\n",
              "      display: none;\n",
              "      fill: #1967D2;\n",
              "      height: 32px;\n",
              "      padding: 0 0 0 0;\n",
              "      width: 32px;\n",
              "    }\n",
              "\n",
              "    .colab-df-convert:hover {\n",
              "      background-color: #E2EBFA;\n",
              "      box-shadow: 0px 1px 2px rgba(60, 64, 67, 0.3), 0px 1px 3px 1px rgba(60, 64, 67, 0.15);\n",
              "      fill: #174EA6;\n",
              "    }\n",
              "\n",
              "    [theme=dark] .colab-df-convert {\n",
              "      background-color: #3B4455;\n",
              "      fill: #D2E3FC;\n",
              "    }\n",
              "\n",
              "    [theme=dark] .colab-df-convert:hover {\n",
              "      background-color: #434B5C;\n",
              "      box-shadow: 0px 1px 3px 1px rgba(0, 0, 0, 0.15);\n",
              "      filter: drop-shadow(0px 1px 2px rgba(0, 0, 0, 0.3));\n",
              "      fill: #FFFFFF;\n",
              "    }\n",
              "  </style>\n",
              "\n",
              "      <script>\n",
              "        const buttonEl =\n",
              "          document.querySelector('#df-59a3abf1-75d8-48e2-95b1-b069fb5f38f2 button.colab-df-convert');\n",
              "        buttonEl.style.display =\n",
              "          google.colab.kernel.accessAllowed ? 'block' : 'none';\n",
              "\n",
              "        async function convertToInteractive(key) {\n",
              "          const element = document.querySelector('#df-59a3abf1-75d8-48e2-95b1-b069fb5f38f2');\n",
              "          const dataTable =\n",
              "            await google.colab.kernel.invokeFunction('convertToInteractive',\n",
              "                                                     [key], {});\n",
              "          if (!dataTable) return;\n",
              "\n",
              "          const docLinkHtml = 'Like what you see? Visit the ' +\n",
              "            '<a target=\"_blank\" href=https://colab.research.google.com/notebooks/data_table.ipynb>data table notebook</a>'\n",
              "            + ' to learn more about interactive tables.';\n",
              "          element.innerHTML = '';\n",
              "          dataTable['output_type'] = 'display_data';\n",
              "          await google.colab.output.renderOutput(dataTable, element);\n",
              "          const docLink = document.createElement('div');\n",
              "          docLink.innerHTML = docLinkHtml;\n",
              "          element.appendChild(docLink);\n",
              "        }\n",
              "      </script>\n",
              "    </div>\n",
              "  </div>\n",
              "  "
            ]
          },
          "metadata": {},
          "execution_count": 54
        }
      ]
    },
    {
      "cell_type": "code",
      "source": [
        "gp_mean = mvp_candidates['GP'].mean()\n",
        "ppg_mean = mvp_candidates['PPG'].mean()\n",
        "apg_mean = mvp_candidates['APG'].mean()\n",
        "rpg_mean = mvp_candidates['RPG'].mean() \n",
        "efg_mean = mvp_candidates['eFG%'].mean()\n",
        "\n",
        "\n",
        "mvp_points = []\n",
        "\n",
        "for i in range(0,len(mvp_candidates)):\n",
        "  mvp_points.append((mvp_candidates.iloc[i]['GP'] - gp_mean)/82   + (mvp_candidates.iloc[i]['PPG'] - ppg_mean) * 0.35 + (mvp_candidates.iloc[i]['APG'] - apg_mean) * 0.15 + (mvp_candidates.iloc[i]['RPG'] - rpg_mean) * 0.10 + (mvp_candidates.iloc[i]['eFG%']*100 - efg_mean) * 0.2)\n",
        "\n",
        "\n",
        "mvp_candidates = mvp_candidates.assign(MVP_Points = mvp_points)\n",
        "\n",
        "mvp_candidates[['FULL NAME', 'GP', 'PPG', 'APG', 'RPG', 'eFG%', 'MVP_Points']].sort_values(by='MVP_Points', ascending=False)"
      ],
      "metadata": {
        "colab": {
          "base_uri": "https://localhost:8080/",
          "height": 269
        },
        "id": "VvorARy6PLzl",
        "outputId": "7cc49208-ec0e-497d-82cb-148d0cd90d54"
      },
      "execution_count": 55,
      "outputs": [
        {
          "output_type": "execute_result",
          "data": {
            "text/plain": [
              "                 FULL NAME  GP   PPG  APG   RPG   eFG%  MVP_Points\n",
              "343           Nikola Jokic  74  27.1  7.9  13.8  0.620   12.974156\n",
              "13   Giannis Antetokounmpo  67  29.9  5.8  11.6  0.582   12.573790\n",
              "184            Joel Embiid  68  30.6  4.2  11.7  0.534   11.640985\n",
              "150          DeMar DeRozan  76  27.9  4.9   5.2  0.521    9.988546\n",
              "623           Jayson Tatum  76  26.9  4.4   8.0  0.526    9.943546\n",
              "64            Devin Booker  68  26.8  4.8   5.0  0.530    9.650985\n",
              "453       Donovan Mitchell  67  25.9  5.3   4.2  0.533    9.378790"
            ],
            "text/html": [
              "\n",
              "  <div id=\"df-7f0c7aa4-05bb-4e40-b9d8-ef2ca3daab33\">\n",
              "    <div class=\"colab-df-container\">\n",
              "      <div>\n",
              "<style scoped>\n",
              "    .dataframe tbody tr th:only-of-type {\n",
              "        vertical-align: middle;\n",
              "    }\n",
              "\n",
              "    .dataframe tbody tr th {\n",
              "        vertical-align: top;\n",
              "    }\n",
              "\n",
              "    .dataframe thead th {\n",
              "        text-align: right;\n",
              "    }\n",
              "</style>\n",
              "<table border=\"1\" class=\"dataframe\">\n",
              "  <thead>\n",
              "    <tr style=\"text-align: right;\">\n",
              "      <th></th>\n",
              "      <th>FULL NAME</th>\n",
              "      <th>GP</th>\n",
              "      <th>PPG</th>\n",
              "      <th>APG</th>\n",
              "      <th>RPG</th>\n",
              "      <th>eFG%</th>\n",
              "      <th>MVP_Points</th>\n",
              "    </tr>\n",
              "  </thead>\n",
              "  <tbody>\n",
              "    <tr>\n",
              "      <th>343</th>\n",
              "      <td>Nikola Jokic</td>\n",
              "      <td>74</td>\n",
              "      <td>27.1</td>\n",
              "      <td>7.9</td>\n",
              "      <td>13.8</td>\n",
              "      <td>0.620</td>\n",
              "      <td>12.974156</td>\n",
              "    </tr>\n",
              "    <tr>\n",
              "      <th>13</th>\n",
              "      <td>Giannis Antetokounmpo</td>\n",
              "      <td>67</td>\n",
              "      <td>29.9</td>\n",
              "      <td>5.8</td>\n",
              "      <td>11.6</td>\n",
              "      <td>0.582</td>\n",
              "      <td>12.573790</td>\n",
              "    </tr>\n",
              "    <tr>\n",
              "      <th>184</th>\n",
              "      <td>Joel Embiid</td>\n",
              "      <td>68</td>\n",
              "      <td>30.6</td>\n",
              "      <td>4.2</td>\n",
              "      <td>11.7</td>\n",
              "      <td>0.534</td>\n",
              "      <td>11.640985</td>\n",
              "    </tr>\n",
              "    <tr>\n",
              "      <th>150</th>\n",
              "      <td>DeMar DeRozan</td>\n",
              "      <td>76</td>\n",
              "      <td>27.9</td>\n",
              "      <td>4.9</td>\n",
              "      <td>5.2</td>\n",
              "      <td>0.521</td>\n",
              "      <td>9.988546</td>\n",
              "    </tr>\n",
              "    <tr>\n",
              "      <th>623</th>\n",
              "      <td>Jayson Tatum</td>\n",
              "      <td>76</td>\n",
              "      <td>26.9</td>\n",
              "      <td>4.4</td>\n",
              "      <td>8.0</td>\n",
              "      <td>0.526</td>\n",
              "      <td>9.943546</td>\n",
              "    </tr>\n",
              "    <tr>\n",
              "      <th>64</th>\n",
              "      <td>Devin Booker</td>\n",
              "      <td>68</td>\n",
              "      <td>26.8</td>\n",
              "      <td>4.8</td>\n",
              "      <td>5.0</td>\n",
              "      <td>0.530</td>\n",
              "      <td>9.650985</td>\n",
              "    </tr>\n",
              "    <tr>\n",
              "      <th>453</th>\n",
              "      <td>Donovan Mitchell</td>\n",
              "      <td>67</td>\n",
              "      <td>25.9</td>\n",
              "      <td>5.3</td>\n",
              "      <td>4.2</td>\n",
              "      <td>0.533</td>\n",
              "      <td>9.378790</td>\n",
              "    </tr>\n",
              "  </tbody>\n",
              "</table>\n",
              "</div>\n",
              "      <button class=\"colab-df-convert\" onclick=\"convertToInteractive('df-7f0c7aa4-05bb-4e40-b9d8-ef2ca3daab33')\"\n",
              "              title=\"Convert this dataframe to an interactive table.\"\n",
              "              style=\"display:none;\">\n",
              "        \n",
              "  <svg xmlns=\"http://www.w3.org/2000/svg\" height=\"24px\"viewBox=\"0 0 24 24\"\n",
              "       width=\"24px\">\n",
              "    <path d=\"M0 0h24v24H0V0z\" fill=\"none\"/>\n",
              "    <path d=\"M18.56 5.44l.94 2.06.94-2.06 2.06-.94-2.06-.94-.94-2.06-.94 2.06-2.06.94zm-11 1L8.5 8.5l.94-2.06 2.06-.94-2.06-.94L8.5 2.5l-.94 2.06-2.06.94zm10 10l.94 2.06.94-2.06 2.06-.94-2.06-.94-.94-2.06-.94 2.06-2.06.94z\"/><path d=\"M17.41 7.96l-1.37-1.37c-.4-.4-.92-.59-1.43-.59-.52 0-1.04.2-1.43.59L10.3 9.45l-7.72 7.72c-.78.78-.78 2.05 0 2.83L4 21.41c.39.39.9.59 1.41.59.51 0 1.02-.2 1.41-.59l7.78-7.78 2.81-2.81c.8-.78.8-2.07 0-2.86zM5.41 20L4 18.59l7.72-7.72 1.47 1.35L5.41 20z\"/>\n",
              "  </svg>\n",
              "      </button>\n",
              "      \n",
              "  <style>\n",
              "    .colab-df-container {\n",
              "      display:flex;\n",
              "      flex-wrap:wrap;\n",
              "      gap: 12px;\n",
              "    }\n",
              "\n",
              "    .colab-df-convert {\n",
              "      background-color: #E8F0FE;\n",
              "      border: none;\n",
              "      border-radius: 50%;\n",
              "      cursor: pointer;\n",
              "      display: none;\n",
              "      fill: #1967D2;\n",
              "      height: 32px;\n",
              "      padding: 0 0 0 0;\n",
              "      width: 32px;\n",
              "    }\n",
              "\n",
              "    .colab-df-convert:hover {\n",
              "      background-color: #E2EBFA;\n",
              "      box-shadow: 0px 1px 2px rgba(60, 64, 67, 0.3), 0px 1px 3px 1px rgba(60, 64, 67, 0.15);\n",
              "      fill: #174EA6;\n",
              "    }\n",
              "\n",
              "    [theme=dark] .colab-df-convert {\n",
              "      background-color: #3B4455;\n",
              "      fill: #D2E3FC;\n",
              "    }\n",
              "\n",
              "    [theme=dark] .colab-df-convert:hover {\n",
              "      background-color: #434B5C;\n",
              "      box-shadow: 0px 1px 3px 1px rgba(0, 0, 0, 0.15);\n",
              "      filter: drop-shadow(0px 1px 2px rgba(0, 0, 0, 0.3));\n",
              "      fill: #FFFFFF;\n",
              "    }\n",
              "  </style>\n",
              "\n",
              "      <script>\n",
              "        const buttonEl =\n",
              "          document.querySelector('#df-7f0c7aa4-05bb-4e40-b9d8-ef2ca3daab33 button.colab-df-convert');\n",
              "        buttonEl.style.display =\n",
              "          google.colab.kernel.accessAllowed ? 'block' : 'none';\n",
              "\n",
              "        async function convertToInteractive(key) {\n",
              "          const element = document.querySelector('#df-7f0c7aa4-05bb-4e40-b9d8-ef2ca3daab33');\n",
              "          const dataTable =\n",
              "            await google.colab.kernel.invokeFunction('convertToInteractive',\n",
              "                                                     [key], {});\n",
              "          if (!dataTable) return;\n",
              "\n",
              "          const docLinkHtml = 'Like what you see? Visit the ' +\n",
              "            '<a target=\"_blank\" href=https://colab.research.google.com/notebooks/data_table.ipynb>data table notebook</a>'\n",
              "            + ' to learn more about interactive tables.';\n",
              "          element.innerHTML = '';\n",
              "          dataTable['output_type'] = 'display_data';\n",
              "          await google.colab.output.renderOutput(dataTable, element);\n",
              "          const docLink = document.createElement('div');\n",
              "          docLink.innerHTML = docLinkHtml;\n",
              "          element.appendChild(docLink);\n",
              "        }\n",
              "      </script>\n",
              "    </div>\n",
              "  </div>\n",
              "  "
            ]
          },
          "metadata": {},
          "execution_count": 55
        }
      ]
    },
    {
      "cell_type": "code",
      "source": [
        "# Ağırlıklı kriterlere göre mvp tahminleri ve pie chart\n",
        "mvp_points\n",
        "\n",
        "\n",
        "\n",
        "fig1, ax1 = plt.subplots()\n",
        "ax1.pie(mvp_candidates['MVP_Points'], labels=mvp_candidates['FULL NAME'], autopct='%1.1f%%')\n",
        "ax1.axis('equal')\n",
        "plt.show()"
      ],
      "metadata": {
        "id": "4pvyyiYZLWIt",
        "colab": {
          "base_uri": "https://localhost:8080/",
          "height": 251
        },
        "outputId": "074dc396-e7b6-419a-8629-13b2e1293aa0"
      },
      "execution_count": 56,
      "outputs": [
        {
          "output_type": "display_data",
          "data": {
            "text/plain": [
              "<Figure size 432x288 with 1 Axes>"
            ],
            "image/png": "[encoded data removed]"
          },
          "metadata": {}
        }
      ]
    },
    {
      "cell_type": "code",
      "source": [
        "# MPG and PPG correlation (line graph)\n",
        "ax = sns.scatterplot(x=\"AGE\", y=\"DRTG\", data=data)\n",
        "ax.set_title(\"Age and Defence Correlation\")"
      ],
      "metadata": {
        "colab": {
          "base_uri": "https://localhost:8080/",
          "height": 279
        },
        "id": "gcAaLbRDtN5f",
        "outputId": "d92b7066-1295-4e11-a297-a5576e1b3e83"
      },
      "execution_count": 62,
      "outputs": [
        {
          "output_type": "display_data",
          "data": {
            "text/plain": [
              "<Figure size 432x288 with 1 Axes>"
            ],
            "image/png": "[encoded data removed]"
          },
          "metadata": {
            "needs_background": "light"
          }
        }
      ]
    },
    {
      "cell_type": "code",
      "source": [
        "wo_outliers = data[(data['AGE'] > 37.5) | (data['DRTG'] < 85)]\n",
        "wo_outliers = pd.concat([data, wo_outliers]).drop_duplicates(keep = False)\n",
        "\n",
        "sns.scatterplot(x=\"AGE\", y=\"DRTG\", data=wo_outliers)"
      ],
      "metadata": {
        "colab": {
          "base_uri": "https://localhost:8080/",
          "height": 296
        },
        "id": "vOApBeZrvATP",
        "outputId": "b1de9984-335b-4791-8aea-18a013d2e0c5"
      },
      "execution_count": 75,
      "outputs": [
        {
          "output_type": "execute_result",
          "data": {
            "text/plain": [
              "<matplotlib.axes._subplots.AxesSubplot at 0x7f3f2feb5650>"
            ]
          },
          "metadata": {},
          "execution_count": 75
        },
        {
          "output_type": "display_data",
          "data": {
            "text/plain": [
              "<Figure size 432x288 with 1 Axes>"
            ],
            "image/png": "[encoded data removed]"
          },
          "metadata": {
            "needs_background": "light"
          }
        }
      ]
    },
    {
      "cell_type": "code",
      "source": [
        "sns.lmplot(x=\"AGE\", y=\"DRTG\", data=wo_outliers)"
      ],
      "metadata": {
        "colab": {
          "base_uri": "https://localhost:8080/",
          "height": 386
        },
        "id": "0pcmAh5gubDg",
        "outputId": "4a666435-ee6e-4002-b6f2-f8713222a98c"
      },
      "execution_count": 76,
      "outputs": [
        {
          "output_type": "execute_result",
          "data": {
            "text/plain": [
              "<seaborn.axisgrid.FacetGrid at 0x7f3f2ff68dd0>"
            ]
          },
          "metadata": {},
          "execution_count": 76
        },
        {
          "output_type": "display_data",
          "data": {
            "text/plain": [
              "<Figure size 360x360 with 1 Axes>"
            ],
            "image/png": "[encoded data removed]"
          },
          "metadata": {
            "needs_background": "light"
          }
        }
      ]
    },
    {
      "cell_type": "code",
      "source": [
        "correlation_age_drtg = data[['AGE', 'DRTG']].corr()\n",
        "sns.heatmap(correlation_age_drtg, annot=True)"
      ],
      "metadata": {
        "colab": {
          "base_uri": "https://localhost:8080/",
          "height": 286
        },
        "id": "9DDuboBGw1aX",
        "outputId": "48a936ab-9efd-4cf1-9fa8-ee1c8dce12e0"
      },
      "execution_count": 78,
      "outputs": [
        {
          "output_type": "execute_result",
          "data": {
            "text/plain": [
              "<matplotlib.axes._subplots.AxesSubplot at 0x7f3f30ba5b90>"
            ]
          },
          "metadata": {},
          "execution_count": 78
        },
        {
          "output_type": "display_data",
          "data": {
            "text/plain": [
              "<Figure size 432x288 with 2 Axes>"
            ],
            "image/png": "[encoded data removed]"
          },
          "metadata": {
            "needs_background": "light"
          }
        }
      ]
    }
  ]
}